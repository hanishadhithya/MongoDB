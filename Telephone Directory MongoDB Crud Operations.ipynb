{
 "cells": [
  {
   "cell_type": "code",
   "execution_count": 1,
   "id": "4dc382cc",
   "metadata": {},
   "outputs": [
    {
     "name": "stdout",
     "output_type": "stream",
     "text": [
      "Requirement already satisfied: pymongo in c:\\python\\lib\\site-packages (4.3.2)\n",
      "Requirement already satisfied: dnspython<3.0.0,>=1.16.0 in c:\\python\\lib\\site-packages (from pymongo) (2.2.1)\n"
     ]
    }
   ],
   "source": [
    "!pip install pymongo\n"
   ]
  },
  {
   "cell_type": "markdown",
   "id": "7c35f931",
   "metadata": {},
   "source": [
    "# Importing pymongo, creating a database, inserting one document\n",
    "\n",
    "\n"
   ]
  },
  {
   "cell_type": "code",
   "execution_count": 23,
   "id": "0f0545dd",
   "metadata": {},
   "outputs": [
    {
     "name": "stdout",
     "output_type": "stream",
     "text": [
      "<pymongo.results.InsertOneResult object at 0x00000253C48B1640>\n"
     ]
    }
   ],
   "source": [
    "\n",
    "import pymongo\n",
    "\n",
    "myclient = pymongo.MongoClient('mongodb://localhost:27017')\n",
    "mydb = myclient['Telephone']\n",
    "information = mydb['directory']\n",
    "\n",
    "record1 = {'mobile' : 7355280251, 'name': 'chandrika', 'gender' : 'female', 'age' : 21}\n",
    "\n",
    "x = information.insert_one(record1)\n",
    "print(x)"
   ]
  },
  {
   "cell_type": "markdown",
   "id": "dd269084",
   "metadata": {},
   "source": [
    "# Inserting Many document"
   ]
  },
  {
   "cell_type": "code",
   "execution_count": 24,
   "id": "8ac25aed",
   "metadata": {},
   "outputs": [
    {
     "name": "stdout",
     "output_type": "stream",
     "text": [
      "<pymongo.results.InsertManyResult object at 0x00000253C48B13A0>\n"
     ]
    }
   ],
   "source": [
    "record2 = [       \n",
    "           {  'mobile':9122476671, 'name' :'donald', 'gender' : 'male', 'age' : 50} ,\n",
    "            {'mobile' :9739887479,'name': 'rohit', 'gender' : 'male', 'age' : 65} ,\n",
    "    {'mobile' : 1552959487,'name': 'mithali', 'gender' : 'female', 'age' : 25} ,  \n",
    "   {'mobile' : 7901088559,'name': 'virat', 'gender' : 'male', 'age' : 30} \n",
    "]\n",
    "y = information.insert_many(record2)\n",
    "print(y)"
   ]
  },
  {
   "cell_type": "markdown",
   "id": "74352656",
   "metadata": {},
   "source": [
    "# Finding"
   ]
  },
  {
   "cell_type": "code",
   "execution_count": 26,
   "id": "a8a01851",
   "metadata": {},
   "outputs": [
    {
     "name": "stdout",
     "output_type": "stream",
     "text": [
      "{'_id': ObjectId('636ca08ad9f43ad78f80da3a'), 'mobile': 7355280251, 'name': 'chandrika', 'gender': 'female', 'age': 21}\n",
      "{'_id': ObjectId('636ca153d9f43ad78f80da3b'), 'mobile': 9122476671, 'name': 'donald', 'gender': 'male', 'age': 50}\n",
      "{'_id': ObjectId('636ca153d9f43ad78f80da3c'), 'mobile': 9739887479, 'name': 'rohit', 'gender': 'male', 'age': 65}\n",
      "{'_id': ObjectId('636ca153d9f43ad78f80da3d'), 'mobile': 1552959487, 'name': 'mithali', 'gender': 'female', 'age': 25}\n",
      "{'_id': ObjectId('636ca153d9f43ad78f80da3e'), 'mobile': 7901088559, 'name': 'virat', 'gender': 'male', 'age': 30}\n"
     ]
    }
   ],
   "source": [
    "for x in information.find():\n",
    "    print(x)"
   ]
  },
  {
   "cell_type": "markdown",
   "id": "a4398fc2",
   "metadata": {},
   "source": [
    "# Update One"
   ]
  },
  {
   "cell_type": "code",
   "execution_count": 28,
   "id": "3b7de8b8",
   "metadata": {},
   "outputs": [
    {
     "name": "stdout",
     "output_type": "stream",
     "text": [
      "{'_id': ObjectId('636ca08ad9f43ad78f80da3a'), 'mobile': 7355280251, 'name': 'chandrika', 'gender': 'female', 'age': 21}\n",
      "{'_id': ObjectId('636ca153d9f43ad78f80da3b'), 'mobile': 9122476671, 'name': 'donald', 'gender': 'male', 'age': 50}\n",
      "{'_id': ObjectId('636ca153d9f43ad78f80da3c'), 'mobile': 9739887479, 'name': 'rohit', 'gender': 'male', 'age': 65}\n",
      "{'_id': ObjectId('636ca153d9f43ad78f80da3d'), 'mobile': 1552959487, 'name': 'mithali', 'gender': 'female', 'age': 35}\n",
      "{'_id': ObjectId('636ca153d9f43ad78f80da3e'), 'mobile': 7901088559, 'name': 'virat', 'gender': 'male', 'age': 30}\n"
     ]
    }
   ],
   "source": [
    "myquery = { 'age' : 25}\n",
    "newvalue = { '$set' : {'age' : 35} }\n",
    "information.update_one(myquery, newvalue)\n",
    "\n",
    "for x in information.find():\n",
    "    print(x)"
   ]
  },
  {
   "cell_type": "markdown",
   "id": "21c8ea41",
   "metadata": {},
   "source": [
    "# Update Many"
   ]
  },
  {
   "cell_type": "code",
   "execution_count": 30,
   "id": "4d9da018",
   "metadata": {},
   "outputs": [
    {
     "name": "stdout",
     "output_type": "stream",
     "text": [
      "{'_id': ObjectId('636ca08ad9f43ad78f80da3a'), 'mobile': 7355280251, 'name': 'chandrika', 'gender': 'female', 'age': 21, 'city': 'chennai'}\n",
      "{'_id': ObjectId('636ca153d9f43ad78f80da3b'), 'mobile': 9122476671, 'name': 'donald', 'gender': 'male', 'age': 50}\n",
      "{'_id': ObjectId('636ca153d9f43ad78f80da3c'), 'mobile': 9739887479, 'name': 'rohit', 'gender': 'male', 'age': 65}\n",
      "{'_id': ObjectId('636ca153d9f43ad78f80da3d'), 'mobile': 1552959487, 'name': 'mithali', 'gender': 'female', 'age': 35, 'city': 'chennai'}\n",
      "{'_id': ObjectId('636ca153d9f43ad78f80da3e'), 'mobile': 7901088559, 'name': 'virat', 'gender': 'male', 'age': 30}\n"
     ]
    }
   ],
   "source": [
    "myquery = {'gender' : 'female'}\n",
    "newvalues = {'$set' : {'city' : 'chennai'}}\n",
    "information.update_many(myquery, newvalues)\n",
    "\n",
    "for x in information.find():\n",
    "    print(x)"
   ]
  },
  {
   "cell_type": "code",
   "execution_count": 31,
   "id": "6fc4751d",
   "metadata": {},
   "outputs": [
    {
     "name": "stdout",
     "output_type": "stream",
     "text": [
      "{'_id': ObjectId('636ca08ad9f43ad78f80da3a'), 'mobile': 7355280251, 'name': 'chandrika', 'gender': 'female', 'age': 21, 'city': 'chennai'}\n",
      "{'_id': ObjectId('636ca153d9f43ad78f80da3b'), 'mobile': 9122476671, 'name': 'donald', 'gender': 'male', 'age': 50, 'city': 'bangalore'}\n",
      "{'_id': ObjectId('636ca153d9f43ad78f80da3c'), 'mobile': 9739887479, 'name': 'rohit', 'gender': 'male', 'age': 65, 'city': 'bangalore'}\n",
      "{'_id': ObjectId('636ca153d9f43ad78f80da3d'), 'mobile': 1552959487, 'name': 'mithali', 'gender': 'female', 'age': 35, 'city': 'chennai'}\n",
      "{'_id': ObjectId('636ca153d9f43ad78f80da3e'), 'mobile': 7901088559, 'name': 'virat', 'gender': 'male', 'age': 30, 'city': 'bangalore'}\n"
     ]
    }
   ],
   "source": [
    "myquery = {'gender' : 'male'}\n",
    "newvalues = {'$set' : {'city' : 'bangalore'}}\n",
    "information.update_many(myquery, newvalues)\n",
    "\n",
    "for x in information.find():\n",
    "    print(x)"
   ]
  },
  {
   "cell_type": "markdown",
   "id": "916a6f2e",
   "metadata": {},
   "source": [
    "# Delete One"
   ]
  },
  {
   "cell_type": "code",
   "execution_count": 32,
   "id": "a440cc63",
   "metadata": {},
   "outputs": [
    {
     "name": "stdout",
     "output_type": "stream",
     "text": [
      "{'_id': ObjectId('636ca08ad9f43ad78f80da3a'), 'mobile': 7355280251, 'name': 'chandrika', 'gender': 'female', 'age': 21, 'city': 'chennai'}\n",
      "{'_id': ObjectId('636ca153d9f43ad78f80da3b'), 'mobile': 9122476671, 'name': 'donald', 'gender': 'male', 'age': 50, 'city': 'bangalore'}\n",
      "{'_id': ObjectId('636ca153d9f43ad78f80da3c'), 'mobile': 9739887479, 'name': 'rohit', 'gender': 'male', 'age': 65, 'city': 'bangalore'}\n",
      "{'_id': ObjectId('636ca153d9f43ad78f80da3e'), 'mobile': 7901088559, 'name': 'virat', 'gender': 'male', 'age': 30, 'city': 'bangalore'}\n"
     ]
    }
   ],
   "source": [
    "myquery = { 'age' : 35 }\n",
    "\n",
    "information.delete_one(myquery)\n",
    "\n",
    "for x in information.find():\n",
    "    print(x)"
   ]
  },
  {
   "cell_type": "markdown",
   "id": "8aa36e7e",
   "metadata": {},
   "source": [
    "# Delete Many"
   ]
  },
  {
   "cell_type": "code",
   "execution_count": 33,
   "id": "a404d63f",
   "metadata": {},
   "outputs": [
    {
     "name": "stdout",
     "output_type": "stream",
     "text": [
      "{'_id': ObjectId('636ca08ad9f43ad78f80da3a'), 'mobile': 7355280251, 'name': 'chandrika', 'gender': 'female', 'age': 21, 'city': 'chennai'}\n"
     ]
    }
   ],
   "source": [
    "myquery = { 'gender' : 'male' }\n",
    "\n",
    "information.delete_many(myquery)\n",
    "\n",
    "for x in information.find():\n",
    "    print(x)"
   ]
  }
 ],
 "metadata": {
  "kernelspec": {
   "display_name": "Python 3 (ipykernel)",
   "language": "python",
   "name": "python3"
  },
  "language_info": {
   "codemirror_mode": {
    "name": "ipython",
    "version": 3
   },
   "file_extension": ".py",
   "mimetype": "text/x-python",
   "name": "python",
   "nbconvert_exporter": "python",
   "pygments_lexer": "ipython3",
   "version": "3.9.13"
  }
 },
 "nbformat": 4,
 "nbformat_minor": 5
}
